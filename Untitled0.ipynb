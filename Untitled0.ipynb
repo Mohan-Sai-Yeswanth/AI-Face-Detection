{
  "nbformat": 4,
  "nbformat_minor": 0,
  "metadata": {
    "colab": {
      "provenance": [],
      "authorship_tag": "ABX9TyNKwRYwNH5R8L8Nl6XfuJ52",
      "include_colab_link": true
    },
    "kernelspec": {
      "name": "python3",
      "display_name": "Python 3"
    },
    "language_info": {
      "name": "python"
    }
  },
  "cells": [
    {
      "cell_type": "markdown",
      "metadata": {
        "id": "view-in-github",
        "colab_type": "text"
      },
      "source": [
        "<a href=\"https://colab.research.google.com/github/Mohan-Sai-Yeswanth/AI-Face-Detection/blob/master/Untitled0.ipynb\" target=\"_parent\"><img src=\"https://colab.research.google.com/assets/colab-badge.svg\" alt=\"Open In Colab\"/></a>"
      ]
    },
    {
      "cell_type": "code",
      "execution_count": 4,
      "metadata": {
        "colab": {
          "base_uri": "https://localhost:8080/"
        },
        "id": "fgYFXbL26HJY",
        "outputId": "90da50bb-4c7d-4e72-c8d4-f64af94af730"
      },
      "outputs": [
        {
          "output_type": "stream",
          "name": "stdout",
          "text": [
            "\n",
            "Popular dishes in the restaurant along with their prices:\n",
            "biriyani: 120\n",
            "fruit  Salad: 70\n",
            "Fried rice: 100\n",
            "French Fries: 60\n",
            "Sandwich: 30\n",
            "\n",
            "Table reserved in the Restaurant:\n",
            "Table 1\n",
            "Table 2\n",
            "Table 3\n",
            "\n",
            "Print customer orders:\n",
            "Table 1: biriyani\n",
            "Table 1: Fried rice\n",
            "Table 2: Sandwich\n",
            "Table 2: Fried rice\n"
          ]
        }
      ],
      "source": [
        "class Restaurant:\n",
        "    def __init__(self):\n",
        "        self.items = {}\n",
        "        self.tables = []\n",
        "        self.order = []\n",
        "\n",
        "    def add_item_to_menu(self, item, price):\n",
        "        self.items[item] = price\n",
        "\n",
        "    def tabless(self, table_number):\n",
        "        self.tables.append(table_number)\n",
        "\n",
        "    def customer_order(self, table_number, order):\n",
        "        order_details = {'table_number': table_number, 'order': order}\n",
        "        self.order.append(order_details)\n",
        "\n",
        "    def print_items(self):\n",
        "        for item, price in self.items.items():\n",
        "            print(\"{}: {}\".format(item, price))\n",
        "\n",
        "    def print_table_reservations(self):\n",
        "        for table in self.tables:\n",
        "            print(\"Table {}\".format(table))\n",
        "\n",
        "    def print_order(self):\n",
        "        for order in self.order:\n",
        "            print(\"Table {}: {}\".format(order['table_number'], order['order']))\n",
        "\n",
        "restaurant = Restaurant()\n",
        "\n",
        "# Add items\n",
        "restaurant.add_item_to_menu(\"biriyani\", 120)\n",
        "restaurant.add_item_to_menu(\"fruit  Salad\", 70)\n",
        "restaurant.add_item_to_menu(\"Fried rice\", 100)\n",
        "restaurant.add_item_to_menu(\"French Fries\", 60)\n",
        "restaurant.add_item_to_menu(\"Sandwich\", 30)\n",
        "# Book table\n",
        "restaurant.tabless(1)\n",
        "restaurant.tabless(2)\n",
        "restaurant.tabless(3)\n",
        "# Order items\n",
        "restaurant.customer_order(1, \"biriyani\")\n",
        "restaurant.customer_order(1, \"Fried rice\")\n",
        "restaurant.customer_order(2, \"Sandwich\")\n",
        "restaurant.customer_order(2, \"Fried rice\")\n",
        "\n",
        "print(\"\\nPopular dishes in the restaurant along with their prices:\")\n",
        "restaurant.print_items()\n",
        "print(\"\\nTable reserved in the Restaurant:\")\n",
        "restaurant.print_table_reservations()\n",
        "print(\"\\nPrint customer orders:\")\n",
        "restaurant.print_order()"
      ]
    }
  ]
}