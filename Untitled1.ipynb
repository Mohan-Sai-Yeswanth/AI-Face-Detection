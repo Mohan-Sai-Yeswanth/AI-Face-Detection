{
  "nbformat": 4,
  "nbformat_minor": 0,
  "metadata": {
    "colab": {
      "provenance": [],
      "authorship_tag": "ABX9TyMVLmeXw17uyRPoETMzgj1o",
      "include_colab_link": true
    },
    "kernelspec": {
      "name": "python3",
      "display_name": "Python 3"
    },
    "language_info": {
      "name": "python"
    }
  },
  "cells": [
    {
      "cell_type": "markdown",
      "metadata": {
        "id": "view-in-github",
        "colab_type": "text"
      },
      "source": [
        "<a href=\"https://colab.research.google.com/github/Mohan-Sai-Yeswanth/AI-Face-Detection/blob/master/Untitled1.ipynb\" target=\"_parent\"><img src=\"https://colab.research.google.com/assets/colab-badge.svg\" alt=\"Open In Colab\"/></a>"
      ]
    },
    {
      "cell_type": "code",
      "execution_count": 1,
      "metadata": {
        "colab": {
          "base_uri": "https://localhost:8080/"
        },
        "id": "Fz0mtTOd_ySy",
        "outputId": "7bd26b74-dd4d-49c3-dcfc-044732a8c075"
      },
      "outputs": [
        {
          "output_type": "stream",
          "name": "stdout",
          "text": [
            "2\n",
            "3\n",
            "4 5 9\n",
            "1 3  5\n",
            "1 4 \n",
            "3 5 \n",
            "5 9 \n"
          ]
        }
      ],
      "source": [
        "a=int(input())\n",
        "b,b1=int(input()),[]\n",
        "for i in range(a):\n",
        "    b1.append(list(map(int,input().strip().split())))\n",
        "b1=b1[::-1]\n",
        "for i in range(b):\n",
        "    for j in range(a):\n",
        "        print(b1[j][i],end=\" \")\n",
        "    print()"
      ]
    },
    {
      "cell_type": "code",
      "source": [
        "N = 3\n",
        "mat = [[1, 2, 3],\n",
        "\t[ 4, 5, 6 ],\n",
        "\t[ 7, 8, 9 ]]\n",
        "i = N - 1\n",
        "while i >= 0:\n",
        "\tj = N - 1\n",
        "\twhile j >= 0:\n",
        "\t\tprint(mat[i][j], end = \" \")\n",
        "\t\tj = j - 1\n",
        "\tprint()\n",
        "\ti = i - 1\n"
      ],
      "metadata": {
        "colab": {
          "base_uri": "https://localhost:8080/"
        },
        "id": "7zg_ieOPAHND",
        "outputId": "4df60365-77c3-4945-da9e-516c3574c846"
      },
      "execution_count": 3,
      "outputs": [
        {
          "output_type": "stream",
          "name": "stdout",
          "text": [
            "9 8 7 \n",
            "6 5 4 \n",
            "3 2 1 \n"
          ]
        }
      ]
    }
  ]
}