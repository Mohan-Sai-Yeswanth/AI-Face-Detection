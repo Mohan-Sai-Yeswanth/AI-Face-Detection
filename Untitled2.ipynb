{
  "nbformat": 4,
  "nbformat_minor": 0,
  "metadata": {
    "colab": {
      "provenance": [],
      "authorship_tag": "ABX9TyN7I7pHCwM3DGFZbNls1rwO",
      "include_colab_link": true
    },
    "kernelspec": {
      "name": "python3",
      "display_name": "Python 3"
    },
    "language_info": {
      "name": "python"
    }
  },
  "cells": [
    {
      "cell_type": "markdown",
      "metadata": {
        "id": "view-in-github",
        "colab_type": "text"
      },
      "source": [
        "<a href=\"https://colab.research.google.com/github/Mohan-Sai-Yeswanth/AI-Face-Detection/blob/master/Untitled2.ipynb\" target=\"_parent\"><img src=\"https://colab.research.google.com/assets/colab-badge.svg\" alt=\"Open In Colab\"/></a>"
      ]
    },
    {
      "cell_type": "code",
      "execution_count": 2,
      "metadata": {
        "colab": {
          "base_uri": "https://localhost:8080/"
        },
        "id": "iRL73UQLmTVY",
        "outputId": "28f0bced-f4a4-442e-fdd3-49f86d675df2"
      },
      "outputs": [
        {
          "output_type": "stream",
          "name": "stdout",
          "text": [
            "string\n",
            "gnirts\n"
          ]
        }
      ],
      "source": [
        "str1 = \"string\"\n",
        "str2 = \"\"\n",
        "for i in str1:\n",
        "    str2 = i+str2\n",
        "print(str1)\n",
        "print(str2)"
      ]
    },
    {
      "cell_type": "code",
      "source": [
        "str1 = \"strits\"\n",
        "str2 = \"\"\n",
        "for i in str1:\n",
        "    str2 = i+str2\n",
        "if str1 == str2:\n",
        "  print(\"palindrome\")\n",
        "else:\n",
        "  print(\"not a palindrome\")\n",
        "\n"
      ],
      "metadata": {
        "colab": {
          "base_uri": "https://localhost:8080/"
        },
        "id": "Bga8gpF8nBLH",
        "outputId": "59ce9502-7402-400b-e1f5-93c8baa32aea"
      },
      "execution_count": 12,
      "outputs": [
        {
          "output_type": "stream",
          "name": "stdout",
          "text": [
            "not a palindrome\n"
          ]
        }
      ]
    }
  ]
}