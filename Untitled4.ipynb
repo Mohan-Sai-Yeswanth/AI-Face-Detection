{
  "nbformat": 4,
  "nbformat_minor": 0,
  "metadata": {
    "colab": {
      "provenance": [],
      "authorship_tag": "ABX9TyO8upox6FKHX5nBc6rjBP2+",
      "include_colab_link": true
    },
    "kernelspec": {
      "name": "python3",
      "display_name": "Python 3"
    },
    "language_info": {
      "name": "python"
    }
  },
  "cells": [
    {
      "cell_type": "markdown",
      "metadata": {
        "id": "view-in-github",
        "colab_type": "text"
      },
      "source": [
        "<a href=\"https://colab.research.google.com/github/Mohan-Sai-Yeswanth/AI-Face-Detection/blob/master/Untitled4.ipynb\" target=\"_parent\"><img src=\"https://colab.research.google.com/assets/colab-badge.svg\" alt=\"Open In Colab\"/></a>"
      ]
    },
    {
      "cell_type": "code",
      "execution_count": null,
      "metadata": {
        "colab": {
          "base_uri": "https://localhost:8080/"
        },
        "id": "N6IrpZxreGVW",
        "outputId": "14936331-e9da-41f3-ce40-b8ab15519159"
      },
      "outputs": [
        {
          "output_type": "stream",
          "name": "stdout",
          "text": [
            "(1, 'Alice', 26, 'female')\n",
            "(2, 'Bob', 30, 'male')\n",
            "(4, 'David', 35, 'male')\n",
            "(5, 'Eve', 28, 'female')\n",
            "(6, 'Mohan', 19, 'male')\n",
            "(7, 'sai', 30, 'male')\n",
            "(8, 'yeswanth', 20, 'male')\n",
            "(9, 'yash', 25, 'male')\n",
            "(10, 'greesy', 18, 'female')\n",
            "(10, 'greesy', 18, 'female')\n",
            "(6, 'Mohan', 19, 'male')\n"
          ]
        }
      ],
      "source": [
        "import sqlite3\n",
        "conn = sqlite3.connect('example.db')\n",
        "conn.execute('''CREATE TABLE IF NOT EXISTS mytable(id INTEGER PRIMARY KEY,name TEXT,age INTEGER,gender TEXT);''')\n",
        "conn.execute(\"INSERT INTO mytable (name, age, gender) VALUES ('Mohan', 19, 'male')\")\n",
        "conn.execute(\"INSERT INTO mytable (name, age, gender) VALUES ('sai', 30, 'male')\")\n",
        "conn.execute(\"INSERT INTO mytable (name, age, gender) VALUES ('yeswanth', 20, 'male')\")\n",
        "conn.execute(\"INSERT INTO mytable (name, age, gender) VALUES ('yash', 25, 'male')\")\n",
        "conn.execute(\"INSERT INTO mytable (name, age, gender) VALUES ('greesy', 18, 'female')\")\n",
        "conn.commit()\n",
        "result = conn.execute(\"SELECT * FROM mytable\")\n",
        "for row in result:\n",
        "    print(row)\n",
        "conn.execute(\"UPDATE mytable SET age = 26 WHERE name = 'yeswanth'\")\n",
        "conn.commit()\n",
        "result = conn.execute(\"SELECT * FROM mytable WHERE name = 'greesy'\")\n",
        "row = result.fetchone()\n",
        "print(row)\n",
        "conn.execute(\"DELETE FROM mytable WHERE name = 'sai'\")\n",
        "conn.commit()\n",
        "result = conn.execute(\"SELECT * FROM mytable WHERE age = 19\")\n",
        "for row in result:\n",
        "    print(row)\n",
        "conn.close()\n"
      ]
    }
  ]
}